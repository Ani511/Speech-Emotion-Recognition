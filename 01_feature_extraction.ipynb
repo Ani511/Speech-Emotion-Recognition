{
 "cells": [
  {
   "cell_type": "markdown",
   "id": "30612b2e-3cab-4d8f-a3d8-33375fc02f75",
   "metadata": {},
   "source": [
    "# Speech Emotion Recognition\n",
    "## Step 01: Feature Extraction\n",
    "Dataset Source: RAVDESS Emotional Speech Audio on Kaggle\n",
    "--- \n",
    "### Import Libraries\n",
    "We import the necessary libraries for:\n",
    "- Navigating directories (os)\n",
    "- Handling tabular data (pandas)\n",
    "- Showing progress bars (tqdm)\n",
    "- Calling feature extraction and emotion parsing utilities from src/preprocess.py\n",
    "### Define Data Directory and Prepare Storage\n",
    "We define the root directory of the audio dataset (data/), and initialize empty lists to hold extracted features and corresponding emotion labels.\n",
    "### Loop Over Audio Files and Extract Features\n",
    "We iterate through each actor folder in the dataset. For every .wav file:\n",
    "- Extract the emotion label from the filename\n",
    "- Extract audio features using extract_features()\n",
    "- Append the features and labels to lists\n",
    "- We use tqdm to track progress and handle errors gracefully with a try-except block.\n",
    "### Convert to DataFrame and Save\n",
    "We convert the extracted features and labels into a Pandas DataFrame and save it to outputs/features.csv. This file will be used for training emotion classification models.\n"
   ]
  },
  {
   "cell_type": "code",
   "execution_count": 3,
   "id": "d7d89ff1-a522-4e5f-a026-5ff2a4c3bda8",
   "metadata": {},
   "outputs": [
    {
     "name": "stderr",
     "output_type": "stream",
     "text": [
      "100%|██████████████████████████████████████████████████████████████████████████████████| 24/24 [00:58<00:00,  2.42s/it]"
     ]
    },
    {
     "name": "stdout",
     "output_type": "stream",
     "text": [
      "✅ Feature dataset saved to 'outputs/features.csv'\n"
     ]
    },
    {
     "name": "stderr",
     "output_type": "stream",
     "text": [
      "\n"
     ]
    }
   ],
   "source": [
    "import os\n",
    "import pandas as pd\n",
    "from tqdm import tqdm\n",
    "from src.preprocess import extract_features, get_emotion\n",
    "\n",
    "DATA_DIR = \"data\"\n",
    "\n",
    "# Lists to store features and labels\n",
    "features, labels = [], []\n",
    "\n",
    "# Loop through Actor folders\n",
    "for actor_folder in tqdm(os.listdir(DATA_DIR)):\n",
    "    actor_path = os.path.join(DATA_DIR, actor_folder)\n",
    "    if not os.path.isdir(actor_path):\n",
    "        continue\n",
    "    for file in os.listdir(actor_path):\n",
    "        if file.endswith(\".wav\"):\n",
    "            full_path = os.path.join(actor_path, file)\n",
    "            emotion = get_emotion(file)\n",
    "            if emotion is not None:\n",
    "                try:\n",
    "                    feats = extract_features(full_path, extra=True)\n",
    "                    features.append(feats)\n",
    "                    labels.append(emotion)\n",
    "                except Exception as e:\n",
    "                    print(f\"⚠️ Error in {file}: {e}\")\n",
    "\n",
    "df = pd.DataFrame(features)\n",
    "df['label'] = labels\n",
    "\n",
    "os.makedirs(\"outputs\", exist_ok=True)\n",
    "df.to_csv(\"outputs/features.csv\", index=False)\n",
    "print(\"✅ Feature dataset saved to 'outputs/features.csv'\")\n"
   ]
  },
  {
   "cell_type": "markdown",
   "id": "a0e4b25c-c1b3-4a6c-8ffa-3072ea0d0bb5",
   "metadata": {},
   "source": [
    "### Output\n",
    "A CSV file features.csv inside the outputs/ folder containing:\n",
    "- Extracted audio features (e.g., MFCCs, pitch, etc.)\n",
    "- Corresponding emotion labels for each file\n",
    "\n",
    "This concludes the Feature Extraction step. Next, we'll move on to preprocessing, model training, and evaluation."
   ]
  },
  {
   "cell_type": "code",
   "execution_count": null,
   "id": "57369a71-1ea8-4581-a0b9-7f06cca765cc",
   "metadata": {},
   "outputs": [],
   "source": []
  }
 ],
 "metadata": {
  "kernelspec": {
   "display_name": "Python 3 (ipykernel)",
   "language": "python",
   "name": "python3"
  },
  "language_info": {
   "codemirror_mode": {
    "name": "ipython",
    "version": 3
   },
   "file_extension": ".py",
   "mimetype": "text/x-python",
   "name": "python",
   "nbconvert_exporter": "python",
   "pygments_lexer": "ipython3",
   "version": "3.10.9"
  }
 },
 "nbformat": 4,
 "nbformat_minor": 5
}
